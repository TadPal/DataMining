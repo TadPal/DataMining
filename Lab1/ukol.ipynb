{
 "cells": [
  {
   "cell_type": "markdown",
   "metadata": {},
   "source": [
    "# Lab 1"
   ]
  },
  {
   "cell_type": "markdown",
   "metadata": {},
   "source": [
    "## Úkol č. 1: Explorační datová analýza"
   ]
  },
  {
   "cell_type": "code",
   "execution_count": 38,
   "metadata": {},
   "outputs": [],
   "source": [
    "import pandas as pd\n",
    "import numpy as np\n"
   ]
  },
  {
   "cell_type": "code",
   "execution_count": 82,
   "metadata": {},
   "outputs": [
    {
     "data": {
      "text/html": [
       "<div>\n",
       "<style scoped>\n",
       "    .dataframe tbody tr th:only-of-type {\n",
       "        vertical-align: middle;\n",
       "    }\n",
       "\n",
       "    .dataframe tbody tr th {\n",
       "        vertical-align: top;\n",
       "    }\n",
       "\n",
       "    .dataframe thead th {\n",
       "        text-align: right;\n",
       "    }\n",
       "</style>\n",
       "<table border=\"1\" class=\"dataframe\">\n",
       "  <thead>\n",
       "    <tr style=\"text-align: right;\">\n",
       "      <th></th>\n",
       "      <th>class</th>\n",
       "      <th>gene</th>\n",
       "      <th>alpha 0</th>\n",
       "      <th>alpha 7</th>\n",
       "      <th>alpha 14</th>\n",
       "      <th>alpha 21</th>\n",
       "      <th>alpha 28</th>\n",
       "      <th>alpha 35</th>\n",
       "      <th>alpha 42</th>\n",
       "      <th>alpha 49</th>\n",
       "      <th>...</th>\n",
       "      <th>cold 20</th>\n",
       "      <th>cold 40</th>\n",
       "      <th>cold 160</th>\n",
       "      <th>diau a</th>\n",
       "      <th>diau b</th>\n",
       "      <th>diau c</th>\n",
       "      <th>diau d</th>\n",
       "      <th>diau e</th>\n",
       "      <th>diau f</th>\n",
       "      <th>diau g</th>\n",
       "    </tr>\n",
       "  </thead>\n",
       "  <tbody>\n",
       "    <tr>\n",
       "      <th>0</th>\n",
       "      <td>Proteas</td>\n",
       "      <td>YGR270W</td>\n",
       "      <td>NaN</td>\n",
       "      <td>-0.023</td>\n",
       "      <td>0.057</td>\n",
       "      <td>0.007</td>\n",
       "      <td>0.018</td>\n",
       "      <td>-0.057</td>\n",
       "      <td>0.009</td>\n",
       "      <td>-0.034</td>\n",
       "      <td>...</td>\n",
       "      <td>0.099</td>\n",
       "      <td>0.274</td>\n",
       "      <td>0.117</td>\n",
       "      <td>-0.041</td>\n",
       "      <td>-0.032</td>\n",
       "      <td>-0.051</td>\n",
       "      <td>-0.021</td>\n",
       "      <td>-0.023</td>\n",
       "      <td>-0.083</td>\n",
       "      <td>-0.032</td>\n",
       "    </tr>\n",
       "    <tr>\n",
       "      <th>1</th>\n",
       "      <td>Proteas</td>\n",
       "      <td>YIL075C</td>\n",
       "      <td>-0.031</td>\n",
       "      <td>-0.031</td>\n",
       "      <td>-0.060</td>\n",
       "      <td>0.037</td>\n",
       "      <td>-0.071</td>\n",
       "      <td>-0.018</td>\n",
       "      <td>-0.026</td>\n",
       "      <td>-0.052</td>\n",
       "      <td>...</td>\n",
       "      <td>-0.212</td>\n",
       "      <td>-0.176</td>\n",
       "      <td>-0.176</td>\n",
       "      <td>0.031</td>\n",
       "      <td>-0.024</td>\n",
       "      <td>0.018</td>\n",
       "      <td>0.003</td>\n",
       "      <td>-0.008</td>\n",
       "      <td>0.021</td>\n",
       "      <td>-0.113</td>\n",
       "    </tr>\n",
       "    <tr>\n",
       "      <th>2</th>\n",
       "      <td>Proteas</td>\n",
       "      <td>YDL007W</td>\n",
       "      <td>-0.013</td>\n",
       "      <td>NaN</td>\n",
       "      <td>0.067</td>\n",
       "      <td>-0.025</td>\n",
       "      <td>0.017</td>\n",
       "      <td>0.008</td>\n",
       "      <td>-0.042</td>\n",
       "      <td>0.013</td>\n",
       "      <td>...</td>\n",
       "      <td>-0.052</td>\n",
       "      <td>0.161</td>\n",
       "      <td>0.034</td>\n",
       "      <td>0.096</td>\n",
       "      <td>0.048</td>\n",
       "      <td>0.065</td>\n",
       "      <td>-0.013</td>\n",
       "      <td>-0.075</td>\n",
       "      <td>0.216</td>\n",
       "      <td>0.038</td>\n",
       "    </tr>\n",
       "    <tr>\n",
       "      <th>3</th>\n",
       "      <td>Proteas</td>\n",
       "      <td>YER094C</td>\n",
       "      <td>0.003</td>\n",
       "      <td>0.025</td>\n",
       "      <td>0.067</td>\n",
       "      <td>0.083</td>\n",
       "      <td>-0.010</td>\n",
       "      <td>0.080</td>\n",
       "      <td>-0.019</td>\n",
       "      <td>0.057</td>\n",
       "      <td>...</td>\n",
       "      <td>0.038</td>\n",
       "      <td>0.022</td>\n",
       "      <td>0.153</td>\n",
       "      <td>0.045</td>\n",
       "      <td>0.035</td>\n",
       "      <td>0.140</td>\n",
       "      <td>-0.003</td>\n",
       "      <td>-0.048</td>\n",
       "      <td>0.169</td>\n",
       "      <td>0.105</td>\n",
       "    </tr>\n",
       "    <tr>\n",
       "      <th>4</th>\n",
       "      <td>Proteas</td>\n",
       "      <td>YFR004W</td>\n",
       "      <td>-0.068</td>\n",
       "      <td>-0.003</td>\n",
       "      <td>-0.041</td>\n",
       "      <td>0.022</td>\n",
       "      <td>-0.200</td>\n",
       "      <td>-0.011</td>\n",
       "      <td>-0.092</td>\n",
       "      <td>-0.016</td>\n",
       "      <td>...</td>\n",
       "      <td>0.003</td>\n",
       "      <td>-0.078</td>\n",
       "      <td>0.160</td>\n",
       "      <td>-0.041</td>\n",
       "      <td>-0.054</td>\n",
       "      <td>0.097</td>\n",
       "      <td>-0.054</td>\n",
       "      <td>-0.103</td>\n",
       "      <td>0.211</td>\n",
       "      <td>-0.011</td>\n",
       "    </tr>\n",
       "  </tbody>\n",
       "</table>\n",
       "<p>5 rows × 81 columns</p>\n",
       "</div>"
      ],
      "text/plain": [
       "     class     gene  alpha 0  alpha 7  alpha 14  alpha 21  alpha 28  alpha 35  \\\n",
       "0  Proteas  YGR270W      NaN   -0.023     0.057     0.007     0.018    -0.057   \n",
       "1  Proteas  YIL075C   -0.031   -0.031    -0.060     0.037    -0.071    -0.018   \n",
       "2  Proteas  YDL007W   -0.013      NaN     0.067    -0.025     0.017     0.008   \n",
       "3  Proteas  YER094C    0.003    0.025     0.067     0.083    -0.010     0.080   \n",
       "4  Proteas  YFR004W   -0.068   -0.003    -0.041     0.022    -0.200    -0.011   \n",
       "\n",
       "   alpha 42  alpha 49  ...  cold 20  cold 40  cold 160  diau a  diau b  \\\n",
       "0     0.009    -0.034  ...    0.099    0.274     0.117  -0.041  -0.032   \n",
       "1    -0.026    -0.052  ...   -0.212   -0.176    -0.176   0.031  -0.024   \n",
       "2    -0.042     0.013  ...   -0.052    0.161     0.034   0.096   0.048   \n",
       "3    -0.019     0.057  ...    0.038    0.022     0.153   0.045   0.035   \n",
       "4    -0.092    -0.016  ...    0.003   -0.078     0.160  -0.041  -0.054   \n",
       "\n",
       "   diau c  diau d  diau e  diau f  diau g  \n",
       "0  -0.051  -0.021  -0.023  -0.083  -0.032  \n",
       "1   0.018   0.003  -0.008   0.021  -0.113  \n",
       "2   0.065  -0.013  -0.075   0.216   0.038  \n",
       "3   0.140  -0.003  -0.048   0.169   0.105  \n",
       "4   0.097  -0.054  -0.103   0.211  -0.011  \n",
       "\n",
       "[5 rows x 81 columns]"
      ]
     },
     "execution_count": 82,
     "metadata": {},
     "output_type": "execute_result"
    }
   ],
   "source": [
    "brown = pd.read_csv(\"brown-selected.tab\", sep='\\t')\n",
    "brown.head()"
   ]
  },
  {
   "cell_type": "markdown",
   "metadata": {},
   "source": [
    "### Pětičíselná charakteristika"
   ]
  },
  {
   "cell_type": "code",
   "execution_count": 29,
   "metadata": {},
   "outputs": [
    {
     "data": {
      "text/html": [
       "<div>\n",
       "<style scoped>\n",
       "    .dataframe tbody tr th:only-of-type {\n",
       "        vertical-align: middle;\n",
       "    }\n",
       "\n",
       "    .dataframe tbody tr th {\n",
       "        vertical-align: top;\n",
       "    }\n",
       "\n",
       "    .dataframe thead th {\n",
       "        text-align: right;\n",
       "    }\n",
       "</style>\n",
       "<table border=\"1\" class=\"dataframe\">\n",
       "  <thead>\n",
       "    <tr style=\"text-align: right;\">\n",
       "      <th></th>\n",
       "      <th>alpha 0</th>\n",
       "      <th>alpha 7</th>\n",
       "      <th>alpha 14</th>\n",
       "      <th>alpha 21</th>\n",
       "      <th>alpha 28</th>\n",
       "      <th>alpha 35</th>\n",
       "      <th>alpha 42</th>\n",
       "      <th>alpha 49</th>\n",
       "      <th>alpha 56</th>\n",
       "      <th>alpha 63</th>\n",
       "      <th>...</th>\n",
       "      <th>cold 20</th>\n",
       "      <th>cold 40</th>\n",
       "      <th>cold 160</th>\n",
       "      <th>diau a</th>\n",
       "      <th>diau b</th>\n",
       "      <th>diau c</th>\n",
       "      <th>diau d</th>\n",
       "      <th>diau e</th>\n",
       "      <th>diau f</th>\n",
       "      <th>diau g</th>\n",
       "    </tr>\n",
       "  </thead>\n",
       "  <tbody>\n",
       "    <tr>\n",
       "      <th>count</th>\n",
       "      <td>182.000000</td>\n",
       "      <td>179.000000</td>\n",
       "      <td>181.000000</td>\n",
       "      <td>179.000000</td>\n",
       "      <td>178.000000</td>\n",
       "      <td>182.000000</td>\n",
       "      <td>180.000000</td>\n",
       "      <td>183.000000</td>\n",
       "      <td>178.000000</td>\n",
       "      <td>183.000000</td>\n",
       "      <td>...</td>\n",
       "      <td>186.000000</td>\n",
       "      <td>183.000000</td>\n",
       "      <td>186.000000</td>\n",
       "      <td>182.000000</td>\n",
       "      <td>183.000000</td>\n",
       "      <td>184.000000</td>\n",
       "      <td>183.000000</td>\n",
       "      <td>184.000000</td>\n",
       "      <td>186.000000</td>\n",
       "      <td>185.000000</td>\n",
       "    </tr>\n",
       "    <tr>\n",
       "      <th>mean</th>\n",
       "      <td>-0.002742</td>\n",
       "      <td>-0.021352</td>\n",
       "      <td>-0.011459</td>\n",
       "      <td>-0.012346</td>\n",
       "      <td>-0.022753</td>\n",
       "      <td>-0.024429</td>\n",
       "      <td>-0.006828</td>\n",
       "      <td>-0.007699</td>\n",
       "      <td>0.010079</td>\n",
       "      <td>-0.007563</td>\n",
       "      <td>...</td>\n",
       "      <td>-0.022968</td>\n",
       "      <td>-0.083377</td>\n",
       "      <td>-0.148355</td>\n",
       "      <td>0.019302</td>\n",
       "      <td>0.003077</td>\n",
       "      <td>0.029989</td>\n",
       "      <td>-0.014148</td>\n",
       "      <td>-0.012000</td>\n",
       "      <td>-0.039909</td>\n",
       "      <td>-0.138195</td>\n",
       "    </tr>\n",
       "    <tr>\n",
       "      <th>std</th>\n",
       "      <td>0.043673</td>\n",
       "      <td>0.055551</td>\n",
       "      <td>0.046636</td>\n",
       "      <td>0.042781</td>\n",
       "      <td>0.045137</td>\n",
       "      <td>0.047932</td>\n",
       "      <td>0.039822</td>\n",
       "      <td>0.049260</td>\n",
       "      <td>0.041278</td>\n",
       "      <td>0.043676</td>\n",
       "      <td>...</td>\n",
       "      <td>0.059514</td>\n",
       "      <td>0.095930</td>\n",
       "      <td>0.124021</td>\n",
       "      <td>0.030626</td>\n",
       "      <td>0.036410</td>\n",
       "      <td>0.046750</td>\n",
       "      <td>0.054795</td>\n",
       "      <td>0.068554</td>\n",
       "      <td>0.199334</td>\n",
       "      <td>0.234580</td>\n",
       "    </tr>\n",
       "    <tr>\n",
       "      <th>min</th>\n",
       "      <td>-0.160000</td>\n",
       "      <td>-0.196000</td>\n",
       "      <td>-0.136000</td>\n",
       "      <td>-0.166000</td>\n",
       "      <td>-0.200000</td>\n",
       "      <td>-0.173000</td>\n",
       "      <td>-0.107000</td>\n",
       "      <td>-0.148000</td>\n",
       "      <td>-0.109000</td>\n",
       "      <td>-0.160000</td>\n",
       "      <td>...</td>\n",
       "      <td>-0.212000</td>\n",
       "      <td>-0.344000</td>\n",
       "      <td>-0.462000</td>\n",
       "      <td>-0.099000</td>\n",
       "      <td>-0.126000</td>\n",
       "      <td>-0.138000</td>\n",
       "      <td>-0.189000</td>\n",
       "      <td>-0.177000</td>\n",
       "      <td>-0.292000</td>\n",
       "      <td>-0.437000</td>\n",
       "    </tr>\n",
       "    <tr>\n",
       "      <th>25%</th>\n",
       "      <td>-0.023000</td>\n",
       "      <td>-0.050500</td>\n",
       "      <td>-0.041000</td>\n",
       "      <td>-0.037000</td>\n",
       "      <td>-0.048000</td>\n",
       "      <td>-0.056000</td>\n",
       "      <td>-0.029250</td>\n",
       "      <td>-0.042500</td>\n",
       "      <td>-0.017000</td>\n",
       "      <td>-0.032500</td>\n",
       "      <td>...</td>\n",
       "      <td>-0.057750</td>\n",
       "      <td>-0.143000</td>\n",
       "      <td>-0.233500</td>\n",
       "      <td>0.007000</td>\n",
       "      <td>-0.018000</td>\n",
       "      <td>0.004000</td>\n",
       "      <td>-0.044500</td>\n",
       "      <td>-0.051000</td>\n",
       "      <td>-0.194250</td>\n",
       "      <td>-0.290000</td>\n",
       "    </tr>\n",
       "    <tr>\n",
       "      <th>50%</th>\n",
       "      <td>0.002500</td>\n",
       "      <td>-0.023000</td>\n",
       "      <td>-0.013000</td>\n",
       "      <td>-0.007000</td>\n",
       "      <td>-0.019000</td>\n",
       "      <td>-0.022500</td>\n",
       "      <td>-0.003000</td>\n",
       "      <td>-0.004000</td>\n",
       "      <td>0.008500</td>\n",
       "      <td>-0.008000</td>\n",
       "      <td>...</td>\n",
       "      <td>-0.027000</td>\n",
       "      <td>-0.092000</td>\n",
       "      <td>-0.170000</td>\n",
       "      <td>0.020000</td>\n",
       "      <td>0.004000</td>\n",
       "      <td>0.032500</td>\n",
       "      <td>-0.016000</td>\n",
       "      <td>-0.023500</td>\n",
       "      <td>-0.136500</td>\n",
       "      <td>-0.256000</td>\n",
       "    </tr>\n",
       "    <tr>\n",
       "      <th>75%</th>\n",
       "      <td>0.021000</td>\n",
       "      <td>0.003500</td>\n",
       "      <td>0.011000</td>\n",
       "      <td>0.017500</td>\n",
       "      <td>0.008000</td>\n",
       "      <td>0.010750</td>\n",
       "      <td>0.020000</td>\n",
       "      <td>0.025000</td>\n",
       "      <td>0.038000</td>\n",
       "      <td>0.020000</td>\n",
       "      <td>...</td>\n",
       "      <td>0.006750</td>\n",
       "      <td>-0.029000</td>\n",
       "      <td>-0.098000</td>\n",
       "      <td>0.033750</td>\n",
       "      <td>0.024000</td>\n",
       "      <td>0.057250</td>\n",
       "      <td>0.015000</td>\n",
       "      <td>0.011250</td>\n",
       "      <td>0.140500</td>\n",
       "      <td>-0.016000</td>\n",
       "    </tr>\n",
       "    <tr>\n",
       "      <th>max</th>\n",
       "      <td>0.198000</td>\n",
       "      <td>0.299000</td>\n",
       "      <td>0.148000</td>\n",
       "      <td>0.136000</td>\n",
       "      <td>0.076000</td>\n",
       "      <td>0.098000</td>\n",
       "      <td>0.086000</td>\n",
       "      <td>0.119000</td>\n",
       "      <td>0.130000</td>\n",
       "      <td>0.126000</td>\n",
       "      <td>...</td>\n",
       "      <td>0.185000</td>\n",
       "      <td>0.297000</td>\n",
       "      <td>0.249000</td>\n",
       "      <td>0.113000</td>\n",
       "      <td>0.117000</td>\n",
       "      <td>0.149000</td>\n",
       "      <td>0.165000</td>\n",
       "      <td>0.215000</td>\n",
       "      <td>0.480000</td>\n",
       "      <td>0.498000</td>\n",
       "    </tr>\n",
       "  </tbody>\n",
       "</table>\n",
       "<p>8 rows × 79 columns</p>\n",
       "</div>"
      ],
      "text/plain": [
       "          alpha 0     alpha 7    alpha 14    alpha 21    alpha 28    alpha 35  \\\n",
       "count  182.000000  179.000000  181.000000  179.000000  178.000000  182.000000   \n",
       "mean    -0.002742   -0.021352   -0.011459   -0.012346   -0.022753   -0.024429   \n",
       "std      0.043673    0.055551    0.046636    0.042781    0.045137    0.047932   \n",
       "min     -0.160000   -0.196000   -0.136000   -0.166000   -0.200000   -0.173000   \n",
       "25%     -0.023000   -0.050500   -0.041000   -0.037000   -0.048000   -0.056000   \n",
       "50%      0.002500   -0.023000   -0.013000   -0.007000   -0.019000   -0.022500   \n",
       "75%      0.021000    0.003500    0.011000    0.017500    0.008000    0.010750   \n",
       "max      0.198000    0.299000    0.148000    0.136000    0.076000    0.098000   \n",
       "\n",
       "         alpha 42    alpha 49    alpha 56    alpha 63  ...     cold 20  \\\n",
       "count  180.000000  183.000000  178.000000  183.000000  ...  186.000000   \n",
       "mean    -0.006828   -0.007699    0.010079   -0.007563  ...   -0.022968   \n",
       "std      0.039822    0.049260    0.041278    0.043676  ...    0.059514   \n",
       "min     -0.107000   -0.148000   -0.109000   -0.160000  ...   -0.212000   \n",
       "25%     -0.029250   -0.042500   -0.017000   -0.032500  ...   -0.057750   \n",
       "50%     -0.003000   -0.004000    0.008500   -0.008000  ...   -0.027000   \n",
       "75%      0.020000    0.025000    0.038000    0.020000  ...    0.006750   \n",
       "max      0.086000    0.119000    0.130000    0.126000  ...    0.185000   \n",
       "\n",
       "          cold 40    cold 160      diau a      diau b      diau c      diau d  \\\n",
       "count  183.000000  186.000000  182.000000  183.000000  184.000000  183.000000   \n",
       "mean    -0.083377   -0.148355    0.019302    0.003077    0.029989   -0.014148   \n",
       "std      0.095930    0.124021    0.030626    0.036410    0.046750    0.054795   \n",
       "min     -0.344000   -0.462000   -0.099000   -0.126000   -0.138000   -0.189000   \n",
       "25%     -0.143000   -0.233500    0.007000   -0.018000    0.004000   -0.044500   \n",
       "50%     -0.092000   -0.170000    0.020000    0.004000    0.032500   -0.016000   \n",
       "75%     -0.029000   -0.098000    0.033750    0.024000    0.057250    0.015000   \n",
       "max      0.297000    0.249000    0.113000    0.117000    0.149000    0.165000   \n",
       "\n",
       "           diau e      diau f      diau g  \n",
       "count  184.000000  186.000000  185.000000  \n",
       "mean    -0.012000   -0.039909   -0.138195  \n",
       "std      0.068554    0.199334    0.234580  \n",
       "min     -0.177000   -0.292000   -0.437000  \n",
       "25%     -0.051000   -0.194250   -0.290000  \n",
       "50%     -0.023500   -0.136500   -0.256000  \n",
       "75%      0.011250    0.140500   -0.016000  \n",
       "max      0.215000    0.480000    0.498000  \n",
       "\n",
       "[8 rows x 79 columns]"
      ]
     },
     "execution_count": 29,
     "metadata": {},
     "output_type": "execute_result"
    }
   ],
   "source": [
    "brown.describe()"
   ]
  },
  {
   "cell_type": "markdown",
   "metadata": {},
   "source": [
    "### Grafy"
   ]
  },
  {
   "cell_type": "markdown",
   "metadata": {},
   "source": [
    "V boxplot grafech můžeme vizuálně zobrazit pětičíselnou charakteristiku každé proměnné a navzájem je porovnat mezi našimi cílovými proměnnými"
   ]
  },
  {
   "cell_type": "markdown",
   "metadata": {},
   "source": [
    "![Title](box.png)"
   ]
  },
  {
   "cell_type": "markdown",
   "metadata": {},
   "source": [
    "Ve sloupcových grafech můžeme vidět jednotlivé rozdělení proměnných dle jejich hodnot a cílové proměnné"
   ]
  },
  {
   "cell_type": "markdown",
   "metadata": {},
   "source": [
    "![Title](sloup.png)"
   ]
  },
  {
   "cell_type": "markdown",
   "metadata": {},
   "source": [
    "## Úkol č. 2: Analýza vynechaných hodnot"
   ]
  },
  {
   "cell_type": "code",
   "execution_count": 87,
   "metadata": {},
   "outputs": [
    {
     "name": "stdout",
     "output_type": "stream",
     "text": [
      "\n",
      "Přehled chybějících hodnot (seřazeno sestupně):\n"
     ]
    },
    {
     "data": {
      "text/html": [
       "<div>\n",
       "<style scoped>\n",
       "    .dataframe tbody tr th:only-of-type {\n",
       "        vertical-align: middle;\n",
       "    }\n",
       "\n",
       "    .dataframe tbody tr th {\n",
       "        vertical-align: top;\n",
       "    }\n",
       "\n",
       "    .dataframe thead th {\n",
       "        text-align: right;\n",
       "    }\n",
       "</style>\n",
       "<table border=\"1\" class=\"dataframe\">\n",
       "  <thead>\n",
       "    <tr style=\"text-align: right;\">\n",
       "      <th></th>\n",
       "      <th>Počet chybějících hodnot</th>\n",
       "    </tr>\n",
       "  </thead>\n",
       "  <tbody>\n",
       "    <tr>\n",
       "      <th>alpha 28</th>\n",
       "      <td>8</td>\n",
       "    </tr>\n",
       "    <tr>\n",
       "      <th>alpha 56</th>\n",
       "      <td>8</td>\n",
       "    </tr>\n",
       "    <tr>\n",
       "      <th>alpha 70</th>\n",
       "      <td>7</td>\n",
       "    </tr>\n",
       "    <tr>\n",
       "      <th>alpha 21</th>\n",
       "      <td>7</td>\n",
       "    </tr>\n",
       "    <tr>\n",
       "      <th>alpha 7</th>\n",
       "      <td>7</td>\n",
       "    </tr>\n",
       "    <tr>\n",
       "      <th>...</th>\n",
       "      <td>...</td>\n",
       "    </tr>\n",
       "    <tr>\n",
       "      <th>heat 40</th>\n",
       "      <td>0</td>\n",
       "    </tr>\n",
       "    <tr>\n",
       "      <th>cold 20</th>\n",
       "      <td>0</td>\n",
       "    </tr>\n",
       "    <tr>\n",
       "      <th>heat 160</th>\n",
       "      <td>0</td>\n",
       "    </tr>\n",
       "    <tr>\n",
       "      <th>cold 160</th>\n",
       "      <td>0</td>\n",
       "    </tr>\n",
       "    <tr>\n",
       "      <th>diau f</th>\n",
       "      <td>0</td>\n",
       "    </tr>\n",
       "  </tbody>\n",
       "</table>\n",
       "<p>81 rows × 1 columns</p>\n",
       "</div>"
      ],
      "text/plain": [
       "          Počet chybějících hodnot\n",
       "alpha 28                         8\n",
       "alpha 56                         8\n",
       "alpha 70                         7\n",
       "alpha 21                         7\n",
       "alpha 7                          7\n",
       "...                            ...\n",
       "heat 40                          0\n",
       "cold 20                          0\n",
       "heat 160                         0\n",
       "cold 160                         0\n",
       "diau f                           0\n",
       "\n",
       "[81 rows x 1 columns]"
      ]
     },
     "execution_count": 87,
     "metadata": {},
     "output_type": "execute_result"
    }
   ],
   "source": [
    "missing_values = brown.isna().sum()\n",
    "missing_df = pd.DataFrame({\n",
    "    'Počet chybějících hodnot': missing_values,\n",
    "})\n",
    "missing_df = missing_df.sort_values('Počet chybějících hodnot', ascending=False)\n",
    "print(\"\\nPřehled chybějících hodnot (seřazeno sestupně):\")\n",
    "missing_df"
   ]
  },
  {
   "cell_type": "code",
   "execution_count": 88,
   "metadata": {},
   "outputs": [
    {
     "data": {
      "text/plain": [
       "'alpha 28'"
      ]
     },
     "execution_count": 88,
     "metadata": {},
     "output_type": "execute_result"
    }
   ],
   "source": [
    "most_missing = missing_df.index[0]\n",
    "most_missing"
   ]
  },
  {
   "cell_type": "code",
   "execution_count": 89,
   "metadata": {},
   "outputs": [
    {
     "data": {
      "text/plain": [
       "Index([12, 38, 72, 73, 83], dtype='int64')"
      ]
     },
     "execution_count": 89,
     "metadata": {},
     "output_type": "execute_result"
    }
   ],
   "source": [
    "missing_indices = brown[most_missing].isna()\n",
    "missing_rows = brown[missing_indices].index[:5]\n",
    "missing_rows"
   ]
  },
  {
   "cell_type": "code",
   "execution_count": 91,
   "metadata": {},
   "outputs": [
    {
     "data": {
      "text/plain": [
       "12   -0.022753\n",
       "38   -0.022753\n",
       "72   -0.022753\n",
       "73   -0.022753\n",
       "83   -0.022753\n",
       "Name: alpha 28, dtype: float64"
      ]
     },
     "execution_count": 91,
     "metadata": {},
     "output_type": "execute_result"
    }
   ],
   "source": [
    "mean_value = brown[most_missing].mean()\n",
    "brown[most_missing] = brown[most_missing].fillna(mean_value)\n",
    "brown[most_missing][missing_rows]"
   ]
  },
  {
   "cell_type": "markdown",
   "metadata": {},
   "source": [
    "## Úkol č. 3: Metoda hlavních komponent"
   ]
  },
  {
   "cell_type": "markdown",
   "metadata": {},
   "source": [
    "![Title](PCA.png)"
   ]
  },
  {
   "cell_type": "markdown",
   "metadata": {},
   "source": [
    "![Title](scatter.png)"
   ]
  },
  {
   "cell_type": "markdown",
   "metadata": {},
   "source": [
    "K pokrytí variace 75% je potřeba 11 komponent "
   ]
  },
  {
   "cell_type": "markdown",
   "metadata": {},
   "source": [
    "### PCA Python"
   ]
  },
  {
   "cell_type": "code",
   "execution_count": 97,
   "metadata": {},
   "outputs": [],
   "source": [
    "import matplotlib.pyplot as plt\n",
    "from sklearn.decomposition import PCA\n",
    "from sklearn.preprocessing import StandardScaler"
   ]
  },
  {
   "cell_type": "code",
   "execution_count": 94,
   "metadata": {},
   "outputs": [],
   "source": [
    "for column in brown.columns:\n",
    "    if brown[column].isnull().sum() > 0:\n",
    "        mean_val = brown[column].mean()\n",
    "        brown[column] = brown[column].fillna(mean_val)"
   ]
  },
  {
   "cell_type": "code",
   "execution_count": 106,
   "metadata": {},
   "outputs": [],
   "source": [
    "numeric_columns = [col for col in brown.columns if not col.startswith('class') and not col.startswith('gene')]\n",
    "X = brown[numeric_columns].values\n",
    "scaler = StandardScaler()\n",
    "X_scaled = scaler.fit_transform(X)"
   ]
  },
  {
   "cell_type": "code",
   "execution_count": 107,
   "metadata": {},
   "outputs": [],
   "source": [
    "pca = PCA()\n",
    "X_pca = pca.fit_transform(X_scaled)"
   ]
  },
  {
   "cell_type": "code",
   "execution_count": 108,
   "metadata": {},
   "outputs": [
    {
     "data": {
      "text/html": [
       "<div>\n",
       "<style scoped>\n",
       "    .dataframe tbody tr th:only-of-type {\n",
       "        vertical-align: middle;\n",
       "    }\n",
       "\n",
       "    .dataframe tbody tr th {\n",
       "        vertical-align: top;\n",
       "    }\n",
       "\n",
       "    .dataframe thead th {\n",
       "        text-align: right;\n",
       "    }\n",
       "</style>\n",
       "<table border=\"1\" class=\"dataframe\">\n",
       "  <thead>\n",
       "    <tr style=\"text-align: right;\">\n",
       "      <th></th>\n",
       "      <th>Hlavní komponenta</th>\n",
       "      <th>Vlastní číslo</th>\n",
       "      <th>Vysvětlený rozptyl (%)</th>\n",
       "      <th>Kumulativní vysvětlený rozptyl (%)</th>\n",
       "    </tr>\n",
       "  </thead>\n",
       "  <tbody>\n",
       "    <tr>\n",
       "      <th>0</th>\n",
       "      <td>PC1</td>\n",
       "      <td>19.303062</td>\n",
       "      <td>24.302888</td>\n",
       "      <td>24.302888</td>\n",
       "    </tr>\n",
       "    <tr>\n",
       "      <th>1</th>\n",
       "      <td>PC2</td>\n",
       "      <td>8.647232</td>\n",
       "      <td>10.887015</td>\n",
       "      <td>35.189903</td>\n",
       "    </tr>\n",
       "    <tr>\n",
       "      <th>2</th>\n",
       "      <td>PC3</td>\n",
       "      <td>7.229883</td>\n",
       "      <td>9.102547</td>\n",
       "      <td>44.292450</td>\n",
       "    </tr>\n",
       "    <tr>\n",
       "      <th>3</th>\n",
       "      <td>PC4</td>\n",
       "      <td>5.695632</td>\n",
       "      <td>7.170899</td>\n",
       "      <td>51.463349</td>\n",
       "    </tr>\n",
       "    <tr>\n",
       "      <th>4</th>\n",
       "      <td>PC5</td>\n",
       "      <td>4.677204</td>\n",
       "      <td>5.888681</td>\n",
       "      <td>57.352030</td>\n",
       "    </tr>\n",
       "    <tr>\n",
       "      <th>...</th>\n",
       "      <td>...</td>\n",
       "      <td>...</td>\n",
       "      <td>...</td>\n",
       "      <td>...</td>\n",
       "    </tr>\n",
       "    <tr>\n",
       "      <th>74</th>\n",
       "      <td>PC75</td>\n",
       "      <td>0.023042</td>\n",
       "      <td>0.029010</td>\n",
       "      <td>99.928682</td>\n",
       "    </tr>\n",
       "    <tr>\n",
       "      <th>75</th>\n",
       "      <td>PC76</td>\n",
       "      <td>0.020850</td>\n",
       "      <td>0.026250</td>\n",
       "      <td>99.954932</td>\n",
       "    </tr>\n",
       "    <tr>\n",
       "      <th>76</th>\n",
       "      <td>PC77</td>\n",
       "      <td>0.014373</td>\n",
       "      <td>0.018096</td>\n",
       "      <td>99.973028</td>\n",
       "    </tr>\n",
       "    <tr>\n",
       "      <th>77</th>\n",
       "      <td>PC78</td>\n",
       "      <td>0.011418</td>\n",
       "      <td>0.014375</td>\n",
       "      <td>99.987403</td>\n",
       "    </tr>\n",
       "    <tr>\n",
       "      <th>78</th>\n",
       "      <td>PC79</td>\n",
       "      <td>0.010005</td>\n",
       "      <td>0.012597</td>\n",
       "      <td>100.000000</td>\n",
       "    </tr>\n",
       "  </tbody>\n",
       "</table>\n",
       "<p>79 rows × 4 columns</p>\n",
       "</div>"
      ],
      "text/plain": [
       "   Hlavní komponenta  Vlastní číslo  Vysvětlený rozptyl (%)  \\\n",
       "0                PC1      19.303062               24.302888   \n",
       "1                PC2       8.647232               10.887015   \n",
       "2                PC3       7.229883                9.102547   \n",
       "3                PC4       5.695632                7.170899   \n",
       "4                PC5       4.677204                5.888681   \n",
       "..               ...            ...                     ...   \n",
       "74              PC75       0.023042                0.029010   \n",
       "75              PC76       0.020850                0.026250   \n",
       "76              PC77       0.014373                0.018096   \n",
       "77              PC78       0.011418                0.014375   \n",
       "78              PC79       0.010005                0.012597   \n",
       "\n",
       "    Kumulativní vysvětlený rozptyl (%)  \n",
       "0                            24.302888  \n",
       "1                            35.189903  \n",
       "2                            44.292450  \n",
       "3                            51.463349  \n",
       "4                            57.352030  \n",
       "..                                 ...  \n",
       "74                           99.928682  \n",
       "75                           99.954932  \n",
       "76                           99.973028  \n",
       "77                           99.987403  \n",
       "78                          100.000000  \n",
       "\n",
       "[79 rows x 4 columns]"
      ]
     },
     "execution_count": 108,
     "metadata": {},
     "output_type": "execute_result"
    }
   ],
   "source": [
    "explained_variance = pca.explained_variance_ratio_\n",
    "cumulative_variance = np.cumsum(explained_variance)\n",
    "\n",
    "eigenvalues = pca.explained_variance_\n",
    "pca_results = pd.DataFrame({\n",
    "    'Hlavní komponenta': [f'PC{i+1}' for i in range(len(explained_variance))],\n",
    "    'Vlastní číslo': eigenvalues,\n",
    "    'Vysvětlený rozptyl (%)': explained_variance * 100,\n",
    "    'Kumulativní vysvětlený rozptyl (%)': cumulative_variance * 100\n",
    "})\n",
    "\n",
    "\n",
    "pca_results"
   ]
  },
  {
   "cell_type": "code",
   "execution_count": 113,
   "metadata": {},
   "outputs": [
    {
     "data": {
      "image/png": "[encoded data removed]",
      "text/plain": [
       "<Figure size 1200x500 with 1 Axes>"
      ]
     },
     "metadata": {},
     "output_type": "display_data"
    }
   ],
   "source": [
    "plt.figure(figsize=(12, 5))\n",
    "plt.subplot(1, 2, 1)\n",
    "plt.bar(range(1, len(eigenvalues) + 1), eigenvalues, alpha=0.7, color='skyblue')\n",
    "plt.plot(range(1, len(eigenvalues) + 1), eigenvalues, 'ro-')\n",
    "plt.axhline(y=1, color='r', linestyle='--')  # Kaiser pravidlo - vlastní čísla > 1\n",
    "plt.xlabel('Hlavní komponenta')\n",
    "plt.ylabel('Vlastní číslo')\n",
    "plt.grid(True, alpha=0.3)"
   ]
  },
  {
   "cell_type": "code",
   "execution_count": 114,
   "metadata": {},
   "outputs": [
    {
     "data": {
      "image/png": "[encoded data removed]",
      "text/plain": [
       "<Figure size 640x480 with 1 Axes>"
      ]
     },
     "metadata": {},
     "output_type": "display_data"
    }
   ],
   "source": [
    "plt.subplot(1, 2, 2)\n",
    "plt.plot(range(1, len(cumulative_variance) + 1), cumulative_variance * 100, 'bo-')\n",
    "plt.axhline(y=75, color='r', linestyle='--')\n",
    "plt.xlabel('Počet hlavních komponent')\n",
    "plt.ylabel('Kumulativní variace (%)')\n",
    "plt.title('Kumulativní variace')\n",
    "plt.grid(True, alpha=0.3)\n",
    "plt.tight_layout()\n",
    "plt.show()"
   ]
  },
  {
   "cell_type": "code",
   "execution_count": 112,
   "metadata": {},
   "outputs": [
    {
     "name": "stdout",
     "output_type": "stream",
     "text": [
      "Počet komponent pro pokrytí 75% variace: 11\n"
     ]
    }
   ],
   "source": [
    "comp_75 = np.argmax(cumulative_variance >= 0.75) + 1\n",
    "print(f\"Počet komponent pro pokrytí 75% variace: {comp_75}\")"
   ]
  },
  {
   "cell_type": "markdown",
   "metadata": {},
   "source": [
    "### Srovnání"
   ]
  },
  {
   "cell_type": "markdown",
   "metadata": {},
   "source": [
    "I v prostředí orange i za pomocí knihovny scikit-learn jsme dospěli ke stejnému závěru kdy je potřeba 11 komponent pro pokrytí variace 75%"
   ]
  },
  {
   "cell_type": "markdown",
   "metadata": {},
   "source": [
    "## Úkol č 4: Redukce rozsahu"
   ]
  },
  {
   "cell_type": "code",
   "execution_count": 141,
   "metadata": {},
   "outputs": [],
   "source": [
    "srswor = brown.sample(frac=0.6)"
   ]
  },
  {
   "cell_type": "code",
   "execution_count": 142,
   "metadata": {},
   "outputs": [
    {
     "name": "stdout",
     "output_type": "stream",
     "text": [
      "60% ze všech řádků: 111.6\n",
      "Počet řádků v redukovaném setu: 112\n"
     ]
    }
   ],
   "source": [
    "print(f\"60% ze všech řádků: {brown.shape[0]*0.6}\")\n",
    "print(f\"Počet řádků v redukovaném setu: {srswor.shape[0]}\")"
   ]
  },
  {
   "cell_type": "code",
   "execution_count": 132,
   "metadata": {},
   "outputs": [
    {
     "name": "stdout",
     "output_type": "stream",
     "text": [
      "\n",
      "Cílová proměnná: class\n"
     ]
    }
   ],
   "source": [
    "target_column = brown.columns[0]\n",
    "print(f\"\\nCílová proměnná: {target_column}\")"
   ]
  },
  {
   "cell_type": "code",
   "execution_count": 139,
   "metadata": {},
   "outputs": [
    {
     "name": "stdout",
     "output_type": "stream",
     "text": [
      "\n",
      "Rozložení hodnot cílové proměnné:\n"
     ]
    },
    {
     "data": {
      "text/plain": [
       "class\n",
       "Ribo       65.05\n",
       "Proteas    18.82\n",
       "Resp       16.13\n",
       "Name: proportion, dtype: float64"
      ]
     },
     "execution_count": 139,
     "metadata": {},
     "output_type": "execute_result"
    }
   ],
   "source": [
    "print(\"\\nRozložení hodnot cílové proměnné:\")\n",
    "brown_cnt = brown[target_column].value_counts(normalize=True).mul(100).round(2)\n",
    "brown_cnt"
   ]
  },
  {
   "cell_type": "code",
   "execution_count": 143,
   "metadata": {},
   "outputs": [
    {
     "data": {
      "text/plain": [
       "class\n",
       "Ribo       62.50\n",
       "Proteas    23.21\n",
       "Resp       14.29\n",
       "Name: proportion, dtype: float64"
      ]
     },
     "execution_count": 143,
     "metadata": {},
     "output_type": "execute_result"
    }
   ],
   "source": [
    "srswor_cnt = srswor[target_column].value_counts(normalize=True).mul(100).round(2)\n",
    "srswor_cnt"
   ]
  },
  {
   "cell_type": "code",
   "execution_count": 135,
   "metadata": {},
   "outputs": [],
   "source": [
    "strata_sample_indices = []\n",
    "for target_value in brown[target_column].unique():\n",
    "    class_indices = brown[brown[target_column] == target_value].index\n",
    "    sampled_indices = np.random.choice(class_indices, \n",
    "                                     size=int(len(class_indices) * 0.6), \n",
    "                                     replace=False)\n",
    "    strata_sample_indices.extend(sampled_indices)\n",
    "\n",
    "strata_sample = brown.loc[strata_sample_indices]"
   ]
  },
  {
   "cell_type": "code",
   "execution_count": 140,
   "metadata": {},
   "outputs": [
    {
     "data": {
      "text/plain": [
       "class\n",
       "Ribo       64.86\n",
       "Proteas    18.92\n",
       "Resp       16.22\n",
       "Name: proportion, dtype: float64"
      ]
     },
     "execution_count": 140,
     "metadata": {},
     "output_type": "execute_result"
    }
   ],
   "source": [
    "strata_cnt = strata_sample[target_column].value_counts(normalize=True).mul(100).round(2)\n",
    "strata_cnt"
   ]
  },
  {
   "cell_type": "code",
   "execution_count": 147,
   "metadata": {},
   "outputs": [
    {
     "data": {
      "text/plain": [
       "<Figure size 1400x800 with 0 Axes>"
      ]
     },
     "metadata": {},
     "output_type": "display_data"
    },
    {
     "data": {
      "image/png": "[encoded data removed]",
      "text/plain": [
       "<Figure size 1400x600 with 1 Axes>"
      ]
     },
     "metadata": {},
     "output_type": "display_data"
    }
   ],
   "source": [
    "plt.figure(figsize=(14, 8))\n",
    "\n",
    "compare_df = pd.DataFrame({\n",
    "    'Původní data': brown_cnt,\n",
    "    'Stratifikovaný (60%)': strata_cnt,\n",
    "    'SRSWOR (60%)': srswor_cnt\n",
    "})\n",
    "\n",
    "ax = compare_df.plot(kind='bar', figsize=(14, 6))\n",
    "plt.title('Porovnání rozložení cílové proměnné mezi vzorky', fontsize=16)\n",
    "plt.xlabel('Hodnota cílové proměnné', fontsize=14)\n",
    "plt.ylabel('Relativní četnost', fontsize=14)\n",
    "plt.xticks(rotation=45)\n",
    "plt.grid(axis='y', linestyle='--', alpha=0.7)\n",
    "plt.legend(fontsize=12)\n",
    "plt.tight_layout()\n",
    "plt.show()"
   ]
  },
  {
   "cell_type": "markdown",
   "metadata": {},
   "source": [
    "### Závěr"
   ]
  },
  {
   "cell_type": "markdown",
   "metadata": {},
   "source": [
    "Srovnáním lze v grafu vidět, že metoda redukce pomocí strata zachováná poměry cílových hodnot, oproti tomu metoda SRSWOR je čistě náhodná a tudíž není zaručené, že reducke neproběhne např. pouze v jedné z cílových hodnot"
   ]
  }
 ],
 "metadata": {
  "kernelspec": {
   "display_name": "venv3.13",
   "language": "python",
   "name": "python3"
  },
  "language_info": {
   "codemirror_mode": {
    "name": "ipython",
    "version": 3
   },
   "file_extension": ".py",
   "mimetype": "text/x-python",
   "name": "python",
   "nbconvert_exporter": "python",
   "pygments_lexer": "ipython3",
   "version": "3.13.2"
  }
 },
 "nbformat": 4,
 "nbformat_minor": 2
}
