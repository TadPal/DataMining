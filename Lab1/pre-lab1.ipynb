{
 "cells": [
  {
   "cell_type": "markdown",
   "id": "f2f2973c-5b7f-408e-b900-4a6da495c63c",
   "metadata": {},
   "source": [
    "# Lab: Příprava dat č. 1"
   ]
  },
  {
   "cell_type": "markdown",
   "id": "4dc3a744-731f-459c-9c97-eaf856674658",
   "metadata": {},
   "source": [
    "**Pokyny**: \n",
    "- Laboratorní cvičení odevzdejte jako Jupyter Notebook. Datové proudy a výstupy z Orange vložte jako obrázky do Jupyter Notebook.\n",
    "- Budeme pracovat s Brownovou datovou množinou - Klasifikace genů ječmene. Pro potřeby Jupyter Notebook si datovou množinu exportujte z Orange (Miniaplikace Save Data) ."
   ]
  },
  {
   "cell_type": "markdown",
   "id": "526ac905-693e-4725-8f7e-f8fb4cd552b6",
   "metadata": {},
   "source": [
    "## Úkol č. 1: Explorační datová analýza"
   ]
  },
  {
   "cell_type": "markdown",
   "id": "331f1499-bfff-47cf-a154-3e2eba47e022",
   "metadata": {},
   "source": [
    "- Proveďte explorační datovou analýzu předloženého datového vzorku (pětičíselná charakteristika, boxplot, sloucový graf).\n",
    "- Detailně se zaměřte na Alpha* atributy a cílovou proměnnou."
   ]
  },
  {
   "cell_type": "markdown",
   "id": "14836f99-c2dd-41c0-b23e-c0253af18144",
   "metadata": {},
   "source": [
    "## Úkol č. 2: Analýza vynechaných hodnot"
   ]
  },
  {
   "cell_type": "markdown",
   "id": "83339d4d-5a3e-4714-8731-d8f250016821",
   "metadata": {},
   "source": [
    "V prostředí Jupyter Notebook proveďte analýzu vynechaných hodnot. \n",
    "- Zobrazte celkový přehled vynechaných hodnot jako tabulku.\n",
    "- Který atribut má nejvíce vynechaných hodnot. Nahraďte hodnoty u tohoto atributu průměrnou hodnotou. Zobrazte prvních 5 vynechaných a poté nahrazených hodnot."
   ]
  },
  {
   "cell_type": "markdown",
   "id": "05379337-f54c-4c2b-85b0-e78bf7da715b",
   "metadata": {},
   "source": [
    "## Úkol č. 3: Metoda hlavních komponent"
   ]
  },
  {
   "cell_type": "markdown",
   "id": "3d777e2b-bc01-4c9a-a49e-2c173a4d7379",
   "metadata": {},
   "source": [
    "- Proveďte výpočet hlavních komponent Brownovy datové množiny v prostředí Orange.\n",
    "- Proveďte výpočet hlavních komponent Brownovy datové množiny v prostředí Jupyter notebook. Porovnejte s výsledky v aplikaci Orange.\n",
    "- Kolik hlavních komponent bude potřeba pro pokrytí variance 75%\n"
   ]
  },
  {
   "cell_type": "markdown",
   "id": "561bc256-754a-4eb9-ad39-4a36226f9807",
   "metadata": {},
   "source": [
    "## Úkol č 4: Redukce rozsahu"
   ]
  },
  {
   "cell_type": "markdown",
   "id": "f267ecf4-63d3-4d63-afa3-ddedf774531b",
   "metadata": {},
   "source": [
    "V prostředí Jupyter Notebook.\n",
    "- Proveďte redukci pomocí SRSWOR na 60%.\n",
    "- Proveďte redukci pomocí strata na 60% - cílová proměnná. Jak se oba vzorky liší. Porovnejte vhodným grafem."
   ]
  }
 ],
 "metadata": {
  "kernelspec": {
   "display_name": "Python 3 (ipykernel)",
   "language": "python",
   "name": "python3"
  },
  "language_info": {
   "codemirror_mode": {
    "name": "ipython",
    "version": 3
   },
   "file_extension": ".py",
   "mimetype": "text/x-python",
   "name": "python",
   "nbconvert_exporter": "python",
   "pygments_lexer": "ipython3",
   "version": "3.13.0"
  }
 },
 "nbformat": 4,
 "nbformat_minor": 5
}
